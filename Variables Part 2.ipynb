{
 "cells": [
  {
   "cell_type": "markdown",
   "id": "529c3667",
   "metadata": {},
   "source": [
    "# This Live Project sets out to explore the behavior of various variable types in Python. "
   ]
  },
  {
   "cell_type": "markdown",
   "id": "5a53e208",
   "metadata": {},
   "source": [
    "## We'll start with the immutable variable types. They are int, float, string, bool and tuple."
   ]
  },
  {
   "cell_type": "markdown",
   "id": "a21773be",
   "metadata": {},
   "source": [
    "### The first variable type we will look at are integer types. "
   ]
  },
  {
   "cell_type": "markdown",
   "id": "37a15bdc",
   "metadata": {},
   "source": [
    "#### We begin by creating an int variable called a, assigning it the value of 1, and using the id function to get the memory location that a is pointing at. "
   ]
  },
  {
   "cell_type": "code",
   "execution_count": 2,
   "id": "4bcaf394",
   "metadata": {},
   "outputs": [
    {
     "name": "stdout",
     "output_type": "stream",
     "text": [
      "The variable a has a value of 1 and is pointing at memory location 4369465584.\n"
     ]
    }
   ],
   "source": [
    "a = 1\n",
    "print(f'The variable a has a value of {a} and is pointing at memory location {id(a)}.')"
   ]
  },
  {
   "cell_type": "markdown",
   "id": "e18dc780",
   "metadata": {},
   "source": [
    "#### Next we assign variable b to be equal to a and we see that b points to the same memory location as a."
   ]
  },
  {
   "cell_type": "code",
   "execution_count": 3,
   "id": "e440fd7c",
   "metadata": {},
   "outputs": [
    {
     "name": "stdout",
     "output_type": "stream",
     "text": [
      "The variable b also has a value of 1 and is pointing at the same memory location 4369465584.\n"
     ]
    }
   ],
   "source": [
    "b = a\n",
    "print(f'The variable b also has a value of {b} and is pointing at the same memory location {id(b)}.')"
   ]
  },
  {
   "cell_type": "markdown",
   "id": "d9911077",
   "metadata": {},
   "source": [
    "#### As we can see, when we make variable b equal to a, variable b is pointing at the same memory location as a. The memory location contains the value of 1 in this case. Next we assign the value of 2 to b and we see that the memory location that b is pointing to has changed. It is no longer pointing to the same location as a."
   ]
  },
  {
   "cell_type": "code",
   "execution_count": 4,
   "id": "0166d4b5",
   "metadata": {},
   "outputs": [
    {
     "name": "stdout",
     "output_type": "stream",
     "text": [
      "The variable a still has a value of 1 and is still pointing at the same memory location 4369465584.\n",
      "But the variable b now has a value of 2 and is pointing at a different memory location, 4369465616.\n"
     ]
    }
   ],
   "source": [
    "b = 2\n",
    "print(f'The variable a still has a value of {a} and is still pointing at the same memory location {id(a)}.')\n",
    "print(f'But the variable b now has a value of {b} and is pointing at a different memory location, {id(b)}.')"
   ]
  },
  {
   "cell_type": "markdown",
   "id": "8838e0f9",
   "metadata": {},
   "source": [
    "#### This shows that when we change the value of a variable, we are changing the mempory location that the variable is pointing to. That memory location contains the value, such as 1 or 2."
   ]
  },
  {
   "cell_type": "markdown",
   "id": "6de0dec8",
   "metadata": {},
   "source": [
    "### Next we will demostrate the same concept with a float variable."
   ]
  },
  {
   "cell_type": "markdown",
   "id": "51125a3f",
   "metadata": {},
   "source": [
    "#### First we assign a float value to a and make b equal to a."
   ]
  },
  {
   "cell_type": "code",
   "execution_count": 6,
   "id": "a4b62557",
   "metadata": {},
   "outputs": [
    {
     "name": "stdout",
     "output_type": "stream",
     "text": [
      "The variable a has a value of 1.235 and is pointing at memory location 4416306384.\n",
      "The variable b also has a value of 1.235 and is pointing at the same memory location 4416306384.\n"
     ]
    }
   ],
   "source": [
    "a = 1.235\n",
    "print(f'The variable a has a value of {a} and is pointing at memory location {id(a)}.')\n",
    "b = a\n",
    "print(f'The variable b also has a value of {b} and is pointing at the same memory location {id(b)}.')"
   ]
  },
  {
   "cell_type": "markdown",
   "id": "c84021de",
   "metadata": {},
   "source": [
    "#### Next we change the value of b to 2.754 and we see that not only has the value changed, but the memory location has changed. "
   ]
  },
  {
   "cell_type": "code",
   "execution_count": 7,
   "id": "95e70271",
   "metadata": {},
   "outputs": [
    {
     "name": "stdout",
     "output_type": "stream",
     "text": [
      "The variable a still has a value of 1.235 and is still pointing at the same memory location 4416306384.\n",
      "But the variable b now has a value of 2.754 and is pointing at a different memory location, 4416305360.\n"
     ]
    }
   ],
   "source": [
    "b = 2.754\n",
    "print(f'The variable a still has a value of {a} and is still pointing at the same memory location {id(a)}.')\n",
    "print(f'But the variable b now has a value of {b} and is pointing at a different memory location, {id(b)}.')"
   ]
  },
  {
   "cell_type": "markdown",
   "id": "e0ca9fdf",
   "metadata": {},
   "source": [
    "### The next immutable type is str, which we demonstrate here."
   ]
  },
  {
   "cell_type": "code",
   "execution_count": 8,
   "id": "37e1da5e",
   "metadata": {},
   "outputs": [
    {
     "name": "stdout",
     "output_type": "stream",
     "text": [
      "The variable a returns the string \"Python\" and is pointing at the memory location 4370779952.\n",
      "The variable b also returns the string \"Python\" and is also at the same memory location, 4370779952.\n"
     ]
    }
   ],
   "source": [
    "a = 'Python'\n",
    "print(f'The variable a returns the string \"{a}\" and is pointing at the memory location {id(a)}.')\n",
    "b = a\n",
    "print(f'The variable b also returns the string \"{b}\" and is also at the same memory location, {id(b)}.'  )\n"
   ]
  },
  {
   "cell_type": "code",
   "execution_count": 9,
   "id": "5e55b97a",
   "metadata": {},
   "outputs": [
    {
     "name": "stdout",
     "output_type": "stream",
     "text": [
      "The variable a still returns the string \"Python\" and is pointing at the memory location 4370779952.\n",
      "The variable b now returns the string \"Variables\" and now points at a different memory location, 4396437936.\n"
     ]
    }
   ],
   "source": [
    "b = 'Variables'\n",
    "print(f'The variable a still returns the string \"{a}\" and is pointing at the memory location {id(a)}.')\n",
    "print(f'The variable b now returns the string \"{b}\" and now points at a different memory location, {id(b)}.')"
   ]
  },
  {
   "cell_type": "markdown",
   "id": "c10351e8",
   "metadata": {},
   "source": [
    "### The next type is bool."
   ]
  },
  {
   "cell_type": "code",
   "execution_count": 10,
   "id": "1ea4b6af",
   "metadata": {},
   "outputs": [
    {
     "name": "stdout",
     "output_type": "stream",
     "text": [
      "The variable a returns the boolean value of True and is pointing at the memory location 4382723672.\n",
      "The variable b also returns the boolean value of True and is also at the same memory location, 4382723672.\n"
     ]
    }
   ],
   "source": [
    "a = True\n",
    "print(f'The variable a returns the boolean value of {a} and is pointing at the memory location {id(a)}.')\n",
    "b = a\n",
    "print(f'The variable b also returns the boolean value of {b} and is also at the same memory location, {id(b)}.'  )"
   ]
  },
  {
   "cell_type": "code",
   "execution_count": 11,
   "id": "9e939ba4",
   "metadata": {},
   "outputs": [
    {
     "name": "stdout",
     "output_type": "stream",
     "text": [
      "The variable a still returns the boolean value of True and is pointing at the memory location 4382723672.\n",
      "The variable b now returns the boolean value of False and is at a same memory location, 4382724400.\n"
     ]
    }
   ],
   "source": [
    "b = False\n",
    "print(f'The variable a still returns the boolean value of {a} and is pointing at the memory location {id(a)}.')\n",
    "print(f'The variable b now returns the boolean value of {b} and is at a same memory location, {id(b)}.'  )"
   ]
  },
  {
   "cell_type": "markdown",
   "id": "4636c1f3",
   "metadata": {},
   "source": [
    "### The last immutable type is tuples."
   ]
  },
  {
   "cell_type": "code",
   "execution_count": 12,
   "id": "5b8a82f6",
   "metadata": {},
   "outputs": [
    {
     "name": "stdout",
     "output_type": "stream",
     "text": [
      "Tuple variable a returns (1, 2, 3) and is pointing at memory location 4418157184.\n",
      "Tuple variable b also returns (1, 2, 3) and is also pointing at memory location 4418157184.\n"
     ]
    }
   ],
   "source": [
    "a = (1, 2, 3)\n",
    "print(f'Tuple variable a returns {a} and is pointing at memory location {id(a)}.')\n",
    "b = a\n",
    "print(f'Tuple variable b also returns {b} and is also pointing at memory location {id(b)}.')"
   ]
  },
  {
   "cell_type": "code",
   "execution_count": 13,
   "id": "b2d9ed60",
   "metadata": {},
   "outputs": [
    {
     "name": "stdout",
     "output_type": "stream",
     "text": [
      "Tuple variable a still returns (1, 2, 3) and is pointing at memory location 4418157184.\n",
      "But tuple variable b now returns (4, 5, 6) and is now pointing at memory location 4418318016.\n"
     ]
    }
   ],
   "source": [
    "b = (4, 5, 6)\n",
    "print(f'Tuple variable a still returns {a} and is pointing at memory location {id(a)}.')\n",
    "print(f'But tuple variable b now returns {b} and is now pointing at memory location {id(b)}.')"
   ]
  },
  {
   "cell_type": "markdown",
   "id": "9c75be50",
   "metadata": {},
   "source": [
    "## Let us look at the mutable types list and dict."
   ]
  },
  {
   "cell_type": "markdown",
   "id": "82ec98e1",
   "metadata": {},
   "source": [
    "### First we create a list and make a copy"
   ]
  },
  {
   "cell_type": "code",
   "execution_count": 14,
   "id": "1b84ff29",
   "metadata": {},
   "outputs": [
    {
     "name": "stdout",
     "output_type": "stream",
     "text": [
      "List a returns [1, 2, 3] and is pointing at memory location 4418420608.\n",
      "List b also returns [1, 2, 3] and is also pointing at memory location 4418420608.\n"
     ]
    }
   ],
   "source": [
    "a = [1, 2, 3]\n",
    "print(f'List a returns {a} and is pointing at memory location {id(a)}.')\n",
    "b = a\n",
    "print(f'List b also returns {b} and is also pointing at memory location {id(b)}.')"
   ]
  },
  {
   "cell_type": "markdown",
   "id": "f01fe17c",
   "metadata": {},
   "source": [
    "#### Next we change an element of list b and see that list a also changes. "
   ]
  },
  {
   "cell_type": "code",
   "execution_count": 15,
   "id": "e06c7498",
   "metadata": {},
   "outputs": [
    {
     "name": "stdout",
     "output_type": "stream",
     "text": [
      "We changed the element at index 1 of list b to 20, so list b returns [1, 20, 3].\n",
      "List a also reflects that change, and it also returns [1, 20, 3].\n"
     ]
    }
   ],
   "source": [
    "b[1] = 20\n",
    "print(f'We changed the element at index 1 of list b to 20, so list b returns {b}.')\n",
    "print(f'List a also reflects that change, and it also returns {a}.')"
   ]
  },
  {
   "cell_type": "markdown",
   "id": "948d513b",
   "metadata": {},
   "source": [
    "#### This is because both list variables still point at the original memory location, as we see here."
   ]
  },
  {
   "cell_type": "code",
   "execution_count": 16,
   "id": "22c553f6",
   "metadata": {
    "scrolled": true
   },
   "outputs": [
    {
     "name": "stdout",
     "output_type": "stream",
     "text": [
      "List a still points at memory location 4418420608.\n",
      "List b also still points at memory location 4418420608.\n"
     ]
    }
   ],
   "source": [
    "print(f'List a still points at memory location {id(a)}.')\n",
    "print(f'List b also still points at memory location {id(b)}.')"
   ]
  },
  {
   "cell_type": "markdown",
   "id": "a748cc2b",
   "metadata": {},
   "source": [
    "### Let us now demonstrate the same thing with a dict."
   ]
  },
  {
   "cell_type": "markdown",
   "id": "4af0b0a4",
   "metadata": {},
   "source": [
    "#### First we create dict a and make dict b equal to a."
   ]
  },
  {
   "cell_type": "code",
   "execution_count": 17,
   "id": "850d4734",
   "metadata": {},
   "outputs": [
    {
     "name": "stdout",
     "output_type": "stream",
     "text": [
      "Dict a returns {1: 'one', 2: 'two', 3: 'three'} and is located at memory location 4418954240.\n",
      "Dict b also returns {1: 'one', 2: 'two', 3: 'three'} and is also located at memory location 4418954240.\n"
     ]
    }
   ],
   "source": [
    "a = {1:'one', 2:'two', 3:'three'}\n",
    "b = a\n",
    "print(f'Dict a returns {a} and is located at memory location {id(a)}.')\n",
    "print(f'Dict b also returns {b} and is also located at memory location {id(b)}.')"
   ]
  },
  {
   "cell_type": "markdown",
   "id": "51543f80",
   "metadata": {},
   "source": [
    "#### We change the value of key 2 in dict b and see that it also changes the value of key 2 in dict b."
   ]
  },
  {
   "cell_type": "code",
   "execution_count": 18,
   "id": "9fcc4cd3",
   "metadata": {},
   "outputs": [
    {
     "name": "stdout",
     "output_type": "stream",
     "text": [
      "Dict b returns {1: 'one', 2: 'too', 3: 'three'}.\n",
      "Dict a also returns {1: 'one', 2: 'too', 3: 'three'}.\n"
     ]
    }
   ],
   "source": [
    "b[2] = 'too'\n",
    "print(f'Dict b returns {b}.')\n",
    "print(f'Dict a also returns {a}.')"
   ]
  },
  {
   "cell_type": "markdown",
   "id": "3d69ee46",
   "metadata": {},
   "source": [
    "#### Dict a and b still point at the original memory location."
   ]
  },
  {
   "cell_type": "code",
   "execution_count": 19,
   "id": "15971b9d",
   "metadata": {},
   "outputs": [
    {
     "name": "stdout",
     "output_type": "stream",
     "text": [
      "Dict a still points at memory location 4418954240.\n",
      "Dict b also still points at memory location 4418954240.\n"
     ]
    }
   ],
   "source": [
    "print(f'Dict a still points at memory location {id(a)}.')\n",
    "print(f'Dict b also still points at memory location {id(b)}.')"
   ]
  }
 ],
 "metadata": {
  "kernelspec": {
   "display_name": "Python 3 (ipykernel)",
   "language": "python",
   "name": "python3"
  },
  "language_info": {
   "codemirror_mode": {
    "name": "ipython",
    "version": 3
   },
   "file_extension": ".py",
   "mimetype": "text/x-python",
   "name": "python",
   "nbconvert_exporter": "python",
   "pygments_lexer": "ipython3",
   "version": "3.10.0"
  }
 },
 "nbformat": 4,
 "nbformat_minor": 5
}
